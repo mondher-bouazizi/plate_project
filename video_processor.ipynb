{
 "cells": [
  {
   "cell_type": "code",
   "execution_count": 1,
   "metadata": {},
   "outputs": [],
   "source": [
    "from __future__ import print_function\n",
    "\n",
    "from imutils.object_detection import non_max_suppression\n",
    "from imutils import paths\n",
    "\n",
    "from FileSelector import *\n",
    "from Recognizer import *\n",
    "\n",
    "import matplotlib.pyplot as plt\n",
    "import matplotlib.patches as patches\n",
    "import matplotlib.image as mpimg\n",
    "import matplotlib.animation as animation\n",
    "\n",
    "from matplotlib.patches import Rectangle\n",
    "from matplotlib.animation import FuncAnimation\n",
    "from matplotlib import style\n",
    "\n",
    "import imageio\n",
    "\n",
    "from PIL import Image\n",
    "import imutils\n",
    "import cv2\n",
    "\n",
    "import json\n",
    "import os\n",
    "\n",
    "from os import listdir\n",
    "from os.path import isfile, join\n",
    "\n",
    "from pathlib import Path\n",
    "import numpy as np"
   ]
  },
  {
   "cell_type": "code",
   "execution_count": 2,
   "metadata": {},
   "outputs": [],
   "source": [
    "def get_frames_at_rate(video, rate=10, max_num_frames=100):\n",
    "    frames = []\n",
    "    capture = cv2.VideoCapture(my_video)\n",
    "    frame_count = int(capture.get(cv2.CAP_PROP_FRAME_COUNT))\n",
    "    captured = 0\n",
    "    \n",
    "    while captured < max_num_frames and captured * rate < frame_count:\n",
    "        capture.set(cv2.CAP_PROP_POS_FRAMES, rate * captured)\n",
    "        _, frame = capture.read()\n",
    "        frames.append(frame)\n",
    "        \n",
    "        captured += 1\n",
    "    return frames"
   ]
  },
  {
   "cell_type": "code",
   "execution_count": 18,
   "metadata": {},
   "outputs": [],
   "source": [
    "def detect_pedestrians(frames):\n",
    "    hog = cv2.HOGDescriptor()\n",
    "    hog.setSVMDetector(cv2.HOGDescriptor_getDefaultPeopleDetector())\n",
    "    \n",
    "    new_frames = []\n",
    "    \n",
    "    for frame in frames:\n",
    "        (rects, weights) = hog.detectMultiScale(frame, winStride=(4, 4), padding=(8, 8), scale=1.05)\n",
    "        for (x, y, w, h) in rects:\n",
    "            new_frame = cv2.cvtColor(frame, cv2.COLOR_BGR2RGB)\n",
    "            #cv2.rectangle(new_frame, (x, y), (x + w, y + h), (0, 0, 255), 0)\n",
    "            \n",
    "        rects = np.array([[x, y, x + w, y + h] for (x, y, w, h) in rects])\n",
    "        pick = non_max_suppression(rects, probs=None, overlapThresh=0.50)\n",
    "        \n",
    "        for (xA, yA, xB, yB) in pick:\n",
    "            cv2.rectangle(new_frame, (xA, yA), (xB, yB), (0, 255, 0), 2)\n",
    "    \n",
    "        new_frames.append(new_frame)\n",
    "    \n",
    "    return new_frames"
   ]
  },
  {
   "cell_type": "code",
   "execution_count": null,
   "metadata": {},
   "outputs": [],
   "source": []
  },
  {
   "cell_type": "markdown",
   "metadata": {},
   "source": [
    "### ! Unfortunately, it seems we need to save the frames as images for the plate recognizer to process them :/ !"
   ]
  },
  {
   "cell_type": "code",
   "execution_count": 19,
   "metadata": {},
   "outputs": [],
   "source": [
    "def save_frames(frames, directory='..\\\\temp\\\\'):\n",
    "    for i in range(len(frames)):\n",
    "        print(directory + str(i).zfill(3) + '.jpg')\n",
    "        cv2.imwrite(directory + str(i).zfill(3) + '.jpg', frames[i])"
   ]
  },
  {
   "cell_type": "code",
   "execution_count": 20,
   "metadata": {},
   "outputs": [],
   "source": [
    "def get_boxes(node):\n",
    "    boxes = []\n",
    "    for result in node[0]['results']:\n",
    "        box = result['box']\n",
    "        pt_1, pt_2 = (box['xmin'], box['ymin']), (box['xmax'], box['ymax'])\n",
    "        boxes.append((pt_1, pt_2))\n",
    "        \n",
    "    return boxes"
   ]
  },
  {
   "cell_type": "code",
   "execution_count": 21,
   "metadata": {},
   "outputs": [],
   "source": [
    "def detect_plates(directory):\n",
    "    files = [join(directory, f) for f in listdir(directory) if isfile(join(directory, f))]\n",
    "    \n",
    "    frames = []\n",
    "    \n",
    "    for file in files:\n",
    "        #print(file)\n",
    "        node = recognize_img(file)\n",
    "        boxes = get_boxes(node)\n",
    "\n",
    "        for box in boxes:\n",
    "            frame = cv2.imread(file, 1)\n",
    "            if len(box) !=0:\n",
    "                new_frame = frame #cv2.cvtColor(frame, cv2.COLOR_BGR2RGB)\n",
    "                cv2.rectangle(new_frame, box[0], box[1], (255, 255, 0), 2)\n",
    "            \n",
    "            frames.append(new_frame)\n",
    "            \n",
    "        #print('A new frame processed')\n",
    "    return frames"
   ]
  },
  {
   "cell_type": "code",
   "execution_count": 22,
   "metadata": {},
   "outputs": [],
   "source": [
    "def display_gif(fn):\n",
    "    from IPython import display\n",
    "    return display.HTML('<img src=\"{}\">'.format(fn))"
   ]
  },
  {
   "cell_type": "code",
   "execution_count": null,
   "metadata": {},
   "outputs": [],
   "source": []
  },
  {
   "cell_type": "code",
   "execution_count": null,
   "metadata": {},
   "outputs": [],
   "source": []
  },
  {
   "cell_type": "code",
   "execution_count": 23,
   "metadata": {},
   "outputs": [],
   "source": [
    "selector = SelectFilesButton()"
   ]
  },
  {
   "cell_type": "code",
   "execution_count": 24,
   "metadata": {},
   "outputs": [
    {
     "data": {
      "application/vnd.jupyter.widget-view+json": {
       "model_id": "e73f891b5de149d29866832cb0636a26",
       "version_major": 2,
       "version_minor": 0
      },
      "text/plain": [
       "SelectFilesButton(description='Select Files', icon='square-o', style=ButtonStyle(button_color='orange'))"
      ]
     },
     "metadata": {},
     "output_type": "display_data"
    }
   ],
   "source": [
    "selector"
   ]
  },
  {
   "cell_type": "code",
   "execution_count": 25,
   "metadata": {},
   "outputs": [],
   "source": [
    "my_video = selector.files[0]"
   ]
  },
  {
   "cell_type": "code",
   "execution_count": 26,
   "metadata": {},
   "outputs": [],
   "source": [
    "my_frames = get_frames_at_rate(my_video, 10, 30)"
   ]
  },
  {
   "cell_type": "code",
   "execution_count": 27,
   "metadata": {},
   "outputs": [
    {
     "name": "stdout",
     "output_type": "stream",
     "text": [
      "C:\\Users\\admin\\Documents\\plate_project\\temp\\000.jpg\n",
      "C:\\Users\\admin\\Documents\\plate_project\\temp\\001.jpg\n",
      "C:\\Users\\admin\\Documents\\plate_project\\temp\\002.jpg\n",
      "C:\\Users\\admin\\Documents\\plate_project\\temp\\003.jpg\n",
      "C:\\Users\\admin\\Documents\\plate_project\\temp\\004.jpg\n",
      "C:\\Users\\admin\\Documents\\plate_project\\temp\\005.jpg\n",
      "C:\\Users\\admin\\Documents\\plate_project\\temp\\006.jpg\n",
      "C:\\Users\\admin\\Documents\\plate_project\\temp\\007.jpg\n",
      "C:\\Users\\admin\\Documents\\plate_project\\temp\\008.jpg\n",
      "C:\\Users\\admin\\Documents\\plate_project\\temp\\009.jpg\n",
      "C:\\Users\\admin\\Documents\\plate_project\\temp\\010.jpg\n",
      "C:\\Users\\admin\\Documents\\plate_project\\temp\\011.jpg\n",
      "C:\\Users\\admin\\Documents\\plate_project\\temp\\012.jpg\n",
      "C:\\Users\\admin\\Documents\\plate_project\\temp\\013.jpg\n",
      "C:\\Users\\admin\\Documents\\plate_project\\temp\\014.jpg\n",
      "C:\\Users\\admin\\Documents\\plate_project\\temp\\015.jpg\n",
      "C:\\Users\\admin\\Documents\\plate_project\\temp\\016.jpg\n",
      "C:\\Users\\admin\\Documents\\plate_project\\temp\\017.jpg\n",
      "C:\\Users\\admin\\Documents\\plate_project\\temp\\018.jpg\n",
      "C:\\Users\\admin\\Documents\\plate_project\\temp\\019.jpg\n",
      "C:\\Users\\admin\\Documents\\plate_project\\temp\\020.jpg\n",
      "C:\\Users\\admin\\Documents\\plate_project\\temp\\021.jpg\n",
      "C:\\Users\\admin\\Documents\\plate_project\\temp\\022.jpg\n",
      "C:\\Users\\admin\\Documents\\plate_project\\temp\\023.jpg\n",
      "C:\\Users\\admin\\Documents\\plate_project\\temp\\024.jpg\n",
      "C:\\Users\\admin\\Documents\\plate_project\\temp\\025.jpg\n",
      "C:\\Users\\admin\\Documents\\plate_project\\temp\\026.jpg\n",
      "C:\\Users\\admin\\Documents\\plate_project\\temp\\027.jpg\n",
      "C:\\Users\\admin\\Documents\\plate_project\\temp\\028.jpg\n",
      "C:\\Users\\admin\\Documents\\plate_project\\temp\\029.jpg\n"
     ]
    }
   ],
   "source": [
    "# I have used this because I keep getting issues with relative paths, please change it!\n",
    "temp = 'C:\\\\Users\\\\admin\\\\Documents\\\\plate_project\\\\temp\\\\'\n",
    "save_frames(my_frames, temp)"
   ]
  },
  {
   "cell_type": "code",
   "execution_count": 28,
   "metadata": {},
   "outputs": [],
   "source": [
    "my_new_frames = detect_plates(temp)"
   ]
  },
  {
   "cell_type": "code",
   "execution_count": 29,
   "metadata": {},
   "outputs": [],
   "source": [
    "my_new_frames = detect_pedestrians(my_new_frames)"
   ]
  },
  {
   "cell_type": "code",
   "execution_count": 30,
   "metadata": {},
   "outputs": [],
   "source": [
    "# save the gif file\n",
    "temp_file = 'assets\\\\my_car.gif'\n",
    "imageio.mimsave(temp_file, my_new_frames, duration=0.2)"
   ]
  },
  {
   "cell_type": "code",
   "execution_count": 31,
   "metadata": {},
   "outputs": [
    {
     "data": {
      "text/html": [
       "<img src=\"assets\\my_car.gif\">"
      ],
      "text/plain": [
       "<IPython.core.display.HTML object>"
      ]
     },
     "execution_count": 31,
     "metadata": {},
     "output_type": "execute_result"
    }
   ],
   "source": [
    "display_gif(temp_file)"
   ]
  },
  {
   "cell_type": "code",
   "execution_count": null,
   "metadata": {},
   "outputs": [],
   "source": []
  },
  {
   "cell_type": "code",
   "execution_count": null,
   "metadata": {},
   "outputs": [],
   "source": [
    "plt.figure(figsize = (10,10))\n",
    "plt.imshow(cv2.cvtColor(my_new_frames[0], cv2.COLOR_BGR2RGB))"
   ]
  },
  {
   "cell_type": "code",
   "execution_count": null,
   "metadata": {},
   "outputs": [],
   "source": []
  }
 ],
 "metadata": {
  "kernelspec": {
   "display_name": "Python 3",
   "language": "python",
   "name": "python3"
  },
  "language_info": {
   "codemirror_mode": {
    "name": "ipython",
    "version": 3
   },
   "file_extension": ".py",
   "mimetype": "text/x-python",
   "name": "python",
   "nbconvert_exporter": "python",
   "pygments_lexer": "ipython3",
   "version": "3.6.5"
  }
 },
 "nbformat": 4,
 "nbformat_minor": 2
}
